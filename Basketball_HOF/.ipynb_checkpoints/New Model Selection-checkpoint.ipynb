{
 "cells": [
  {
   "cell_type": "code",
   "execution_count": 1,
   "metadata": {},
   "outputs": [],
   "source": [
    "import pandas as pd\n",
    "import numpy as np\n",
    "import matplotlib.pyplot as plt\n",
    "import seaborn as sns; sns.set()"
   ]
  },
  {
   "cell_type": "code",
   "execution_count": 2,
   "metadata": {},
   "outputs": [],
   "source": [
    "data = pd.read_csv(\"merged.csv\").set_index(\"id\")"
   ]
  },
  {
   "cell_type": "code",
   "execution_count": 3,
   "metadata": {},
   "outputs": [],
   "source": [
    "data[\"ppg\"] = data.points / data.games_played\n",
    "data[\"ppg_playoffs\"] = data.points_playoffs / data.games_played_playoffs\n",
    "data[\"rpg\"] = data[\"total_rebounds\"] / data[\"games_played\"]\n",
    "data.fillna(0, inplace=True)"
   ]
  },
  {
   "cell_type": "code",
   "execution_count": 4,
   "metadata": {},
   "outputs": [],
   "source": [
    "data[\"usage_percentage\"] = data[\"usage_percentage\"].replace(0, data[\"usage_percentage\"].median())"
   ]
  },
  {
   "cell_type": "code",
   "execution_count": 5,
   "metadata": {},
   "outputs": [
    {
     "data": {
      "text/plain": [
       "id\n",
       "abdulka01    13.055204\n",
       "jordami01    33.176952\n",
       "russebi01    19.697114\n",
       "bryanko01    31.959235\n",
       "jamesle01    31.535358\n",
       "               ...    \n",
       "wedmasc01    13.313902\n",
       "leeda02      20.540999\n",
       "finlemi01    21.701022\n",
       "brianfr01    19.697114\n",
       "smithph01    13.547246\n",
       "Name: usage_percentage, Length: 251, dtype: float64"
      ]
     },
     "execution_count": 5,
     "metadata": {},
     "output_type": "execute_result"
    }
   ],
   "source": [
    "data.usage_percentage"
   ]
  },
  {
   "cell_type": "code",
   "execution_count": 6,
   "metadata": {},
   "outputs": [],
   "source": [
    "eligible = data[data[\"LastYear\"] <= 2016]\n",
    "ineligible = data[data[\"LastYear\"] > 2016]"
   ]
  },
  {
   "cell_type": "code",
   "execution_count": 7,
   "metadata": {},
   "outputs": [],
   "source": [
    "train = eligible[eligible[\"LastYear\"] <= 2005]\n",
    "test = eligible[eligible[\"LastYear\"] > 2005]"
   ]
  },
  {
   "cell_type": "code",
   "execution_count": 8,
   "metadata": {},
   "outputs": [],
   "source": [
    "train = train.append(train[train[\"hof\"] == 0])"
   ]
  },
  {
   "cell_type": "code",
   "execution_count": 9,
   "metadata": {
    "scrolled": true
   },
   "outputs": [],
   "source": [
    "for column in train.columns:\n",
    "    if train[column].isna().sum() > 0:\n",
    "        print(column)"
   ]
  },
  {
   "cell_type": "code",
   "execution_count": 10,
   "metadata": {},
   "outputs": [],
   "source": [
    "train.drop(\"League_mvp\", axis=1, inplace=True)\n",
    "train.fillna(0, inplace=True)"
   ]
  },
  {
   "cell_type": "code",
   "execution_count": 11,
   "metadata": {},
   "outputs": [
    {
     "data": {
      "text/plain": [
       "Index(['Name', 'Probability', 'LastYear', 'hof', 'Count_mvp', 'Count_dpoy',\n",
       "       'All_stars', 'Count_finals_mvp', 'Championships', 'Unnamed: 0_playoffs',\n",
       "       'assists_playoffs', 'attempted_field_goals_playoffs',\n",
       "       'attempted_free_throws_playoffs',\n",
       "       'attempted_three_point_field_goals_playoffs', 'blocks_playoffs',\n",
       "       'defensive_rebounds_playoffs', 'games_played_playoffs',\n",
       "       'games_started_playoffs', 'made_field_goals_playoffs',\n",
       "       'made_free_throws_playoffs', 'made_three_point_field_goals_playoffs',\n",
       "       'minutes_played_playoffs', 'offensive_rebounds_playoffs',\n",
       "       'personal_fouls_playoffs', 'points_playoffs', 'steals_playoffs',\n",
       "       'total_rebounds_playoffs', 'turnovers_playoffs', 'Unnamed: 0',\n",
       "       'assists', 'attempted_field_goals', 'attempted_free_throws',\n",
       "       'attempted_three_point_field_goals', 'blocks', 'defensive_rebounds',\n",
       "       'games_played', 'games_started', 'made_field_goals', 'made_free_throws',\n",
       "       'made_three_point_field_goals', 'minutes_played', 'offensive_rebounds',\n",
       "       'personal_fouls', 'points', 'steals', 'total_rebounds', 'turnovers',\n",
       "       'assist_percentage', 'block_percentage', 'box_plus_minus',\n",
       "       'defensive_box_plus_minus', 'defensive_rebound_percentage',\n",
       "       'defensive_win_shares', 'free_throw_attempt_rate', 'is_combined_totals',\n",
       "       'offensive_box_plus_minus', 'offensive_rebound_percentage',\n",
       "       'offensive_win_shares', 'player_efficiency_rating', 'steal_percentage',\n",
       "       'three_point_attempt_rate', 'total_rebound_percentage',\n",
       "       'true_shooting_percentage', 'turnover_percentage', 'usage_percentage',\n",
       "       'value_over_replacement_player', 'win_shares',\n",
       "       'win_shares_per_48_minutes', 'peak_win_shares',\n",
       "       'peak_value_over_replacement_player', 'AllNbaSelections',\n",
       "       'First_Team_All_NBA', 'Second_Team_All_NBA', 'Third_Team_All_NBA',\n",
       "       'First_Team_All_ABA', 'Second_Team_All_ABA', 'ppg', 'ppg_playoffs',\n",
       "       'rpg'],\n",
       "      dtype='object')"
      ]
     },
     "execution_count": 11,
     "metadata": {},
     "output_type": "execute_result"
    }
   ],
   "source": [
    "train.columns"
   ]
  },
  {
   "cell_type": "code",
   "execution_count": 12,
   "metadata": {},
   "outputs": [],
   "source": [
    "from sklearn.model_selection import cross_validate"
   ]
  },
  {
   "cell_type": "code",
   "execution_count": 13,
   "metadata": {},
   "outputs": [],
   "source": [
    "X_trn = train.drop([\"Name\", \"Probability\", \"hof\"], axis=1)\n",
    "y_trn = train[\"hof\"]"
   ]
  },
  {
   "cell_type": "code",
   "execution_count": 14,
   "metadata": {},
   "outputs": [],
   "source": [
    "from sklearn.linear_model import LogisticRegression"
   ]
  },
  {
   "cell_type": "code",
   "execution_count": 15,
   "metadata": {},
   "outputs": [
    {
     "name": "stderr",
     "output_type": "stream",
     "text": [
      "/Users/jdarius/opt/anaconda3/lib/python3.7/site-packages/sklearn/linear_model/_logistic.py:940: ConvergenceWarning: lbfgs failed to converge (status=1):\n",
      "STOP: TOTAL NO. of ITERATIONS REACHED LIMIT.\n",
      "\n",
      "Increase the number of iterations (max_iter) or scale the data as shown in:\n",
      "    https://scikit-learn.org/stable/modules/preprocessing.html\n",
      "Please also refer to the documentation for alternative solver options:\n",
      "    https://scikit-learn.org/stable/modules/linear_model.html#logistic-regression\n",
      "  extra_warning_msg=_LOGISTIC_SOLVER_CONVERGENCE_MSG)\n",
      "/Users/jdarius/opt/anaconda3/lib/python3.7/site-packages/sklearn/linear_model/_logistic.py:940: ConvergenceWarning: lbfgs failed to converge (status=1):\n",
      "STOP: TOTAL NO. of ITERATIONS REACHED LIMIT.\n",
      "\n",
      "Increase the number of iterations (max_iter) or scale the data as shown in:\n",
      "    https://scikit-learn.org/stable/modules/preprocessing.html\n",
      "Please also refer to the documentation for alternative solver options:\n",
      "    https://scikit-learn.org/stable/modules/linear_model.html#logistic-regression\n",
      "  extra_warning_msg=_LOGISTIC_SOLVER_CONVERGENCE_MSG)\n",
      "/Users/jdarius/opt/anaconda3/lib/python3.7/site-packages/sklearn/linear_model/_logistic.py:940: ConvergenceWarning: lbfgs failed to converge (status=1):\n",
      "STOP: TOTAL NO. of ITERATIONS REACHED LIMIT.\n",
      "\n",
      "Increase the number of iterations (max_iter) or scale the data as shown in:\n",
      "    https://scikit-learn.org/stable/modules/preprocessing.html\n",
      "Please also refer to the documentation for alternative solver options:\n",
      "    https://scikit-learn.org/stable/modules/linear_model.html#logistic-regression\n",
      "  extra_warning_msg=_LOGISTIC_SOLVER_CONVERGENCE_MSG)\n",
      "/Users/jdarius/opt/anaconda3/lib/python3.7/site-packages/sklearn/linear_model/_logistic.py:940: ConvergenceWarning: lbfgs failed to converge (status=1):\n",
      "STOP: TOTAL NO. of ITERATIONS REACHED LIMIT.\n",
      "\n",
      "Increase the number of iterations (max_iter) or scale the data as shown in:\n",
      "    https://scikit-learn.org/stable/modules/preprocessing.html\n",
      "Please also refer to the documentation for alternative solver options:\n",
      "    https://scikit-learn.org/stable/modules/linear_model.html#logistic-regression\n",
      "  extra_warning_msg=_LOGISTIC_SOLVER_CONVERGENCE_MSG)\n",
      "/Users/jdarius/opt/anaconda3/lib/python3.7/site-packages/sklearn/linear_model/_logistic.py:940: ConvergenceWarning: lbfgs failed to converge (status=1):\n",
      "STOP: TOTAL NO. of ITERATIONS REACHED LIMIT.\n",
      "\n",
      "Increase the number of iterations (max_iter) or scale the data as shown in:\n",
      "    https://scikit-learn.org/stable/modules/preprocessing.html\n",
      "Please also refer to the documentation for alternative solver options:\n",
      "    https://scikit-learn.org/stable/modules/linear_model.html#logistic-regression\n",
      "  extra_warning_msg=_LOGISTIC_SOLVER_CONVERGENCE_MSG)\n"
     ]
    },
    {
     "data": {
      "text/plain": [
       "0.7771507863089732"
      ]
     },
     "execution_count": 15,
     "metadata": {},
     "output_type": "execute_result"
    }
   ],
   "source": [
    "logit = LogisticRegression(penalty='l2')\n",
    "cross_validate(logit, X_trn, y_trn)[\"test_score\"].mean()"
   ]
  },
  {
   "cell_type": "code",
   "execution_count": 16,
   "metadata": {},
   "outputs": [],
   "source": [
    "logit_features = [\"All_stars\", \"Championships\", \"Count_mvp\", \"Count_finals_mvp\", \n",
    "                  \"Count_dpoy\", \"First_Team_All_NBA\", \"Second_Team_All_NBA\"]\n",
    "X_trn = train[logit_features]"
   ]
  },
  {
   "cell_type": "code",
   "execution_count": 17,
   "metadata": {},
   "outputs": [
    {
     "data": {
      "text/plain": [
       "0.7899167437557817"
      ]
     },
     "execution_count": 17,
     "metadata": {},
     "output_type": "execute_result"
    }
   ],
   "source": [
    "logit = LogisticRegression(penalty='l2')\n",
    "cross_validate(logit, X_trn, y_trn)[\"test_score\"].mean()"
   ]
  },
  {
   "cell_type": "code",
   "execution_count": 18,
   "metadata": {},
   "outputs": [],
   "source": [
    "from sklearn.metrics import accuracy_score, brier_score_loss, log_loss"
   ]
  },
  {
   "cell_type": "code",
   "execution_count": 19,
   "metadata": {},
   "outputs": [],
   "source": [
    "preds = eligible.Probability > 0.5"
   ]
  },
  {
   "cell_type": "code",
   "execution_count": 20,
   "metadata": {},
   "outputs": [
    {
     "data": {
      "text/plain": [
       "(0.8300970873786407, 0.1297681836407767)"
      ]
     },
     "execution_count": 20,
     "metadata": {},
     "output_type": "execute_result"
    }
   ],
   "source": [
    "(accuracy_score(eligible.hof, preds), \n",
    " brier_score_loss(eligible.hof, eligible.Probability))"
   ]
  },
  {
   "cell_type": "code",
   "execution_count": 21,
   "metadata": {},
   "outputs": [
    {
     "data": {
      "text/plain": [
       "(0.8349514563106796, 0.10386692005665701)"
      ]
     },
     "execution_count": 21,
     "metadata": {},
     "output_type": "execute_result"
    }
   ],
   "source": [
    "logit.fit(X_trn, y_trn)\n",
    "logit_preds = logit.predict(eligible[X_trn.columns])\n",
    "logit_proba = logit.predict_proba(eligible[X_trn.columns])[:, 1]\n",
    "(accuracy_score(eligible.hof, logit_preds), \n",
    " brier_score_loss(eligible.hof, logit_proba))"
   ]
  },
  {
   "cell_type": "code",
   "execution_count": 22,
   "metadata": {},
   "outputs": [
    {
     "data": {
      "text/html": [
       "<div>\n",
       "<style scoped>\n",
       "    .dataframe tbody tr th:only-of-type {\n",
       "        vertical-align: middle;\n",
       "    }\n",
       "\n",
       "    .dataframe tbody tr th {\n",
       "        vertical-align: top;\n",
       "    }\n",
       "\n",
       "    .dataframe thead th {\n",
       "        text-align: right;\n",
       "    }\n",
       "</style>\n",
       "<table border=\"1\" class=\"dataframe\">\n",
       "  <thead>\n",
       "    <tr style=\"text-align: right;\">\n",
       "      <th></th>\n",
       "      <th>0</th>\n",
       "    </tr>\n",
       "  </thead>\n",
       "  <tbody>\n",
       "    <tr>\n",
       "      <th>All_stars</th>\n",
       "      <td>0.916246</td>\n",
       "    </tr>\n",
       "    <tr>\n",
       "      <th>Championships</th>\n",
       "      <td>0.974057</td>\n",
       "    </tr>\n",
       "    <tr>\n",
       "      <th>Count_mvp</th>\n",
       "      <td>1.361351</td>\n",
       "    </tr>\n",
       "    <tr>\n",
       "      <th>Count_finals_mvp</th>\n",
       "      <td>0.649231</td>\n",
       "    </tr>\n",
       "    <tr>\n",
       "      <th>Count_dpoy</th>\n",
       "      <td>0.413810</td>\n",
       "    </tr>\n",
       "    <tr>\n",
       "      <th>First_Team_All_NBA</th>\n",
       "      <td>1.272833</td>\n",
       "    </tr>\n",
       "    <tr>\n",
       "      <th>Second_Team_All_NBA</th>\n",
       "      <td>0.245345</td>\n",
       "    </tr>\n",
       "  </tbody>\n",
       "</table>\n",
       "</div>"
      ],
      "text/plain": [
       "                            0\n",
       "All_stars            0.916246\n",
       "Championships        0.974057\n",
       "Count_mvp            1.361351\n",
       "Count_finals_mvp     0.649231\n",
       "Count_dpoy           0.413810\n",
       "First_Team_All_NBA   1.272833\n",
       "Second_Team_All_NBA  0.245345"
      ]
     },
     "execution_count": 22,
     "metadata": {},
     "output_type": "execute_result"
    }
   ],
   "source": [
    "pd.DataFrame(logit.coef_.reshape(-1,1), index=X_trn.columns)"
   ]
  },
  {
   "cell_type": "code",
   "execution_count": 23,
   "metadata": {},
   "outputs": [],
   "source": [
    "from sklearn.ensemble import RandomForestClassifier"
   ]
  },
  {
   "cell_type": "code",
   "execution_count": 24,
   "metadata": {},
   "outputs": [],
   "source": [
    "rf_features = [\"All_stars\", \"Championships\", \"Count_mvp\", \"Count_finals_mvp\",\n",
    "               \"Count_dpoy\", \"First_Team_All_NBA\", \"Second_Team_All_NBA\"]\n",
    "\n",
    "X_trn = train[rf_features]"
   ]
  },
  {
   "cell_type": "code",
   "execution_count": 25,
   "metadata": {},
   "outputs": [
    {
     "data": {
      "text/plain": [
       "(0.8589743589743589, 0.9188034188034188, 0.8456984273820536)"
      ]
     },
     "execution_count": 25,
     "metadata": {},
     "output_type": "execute_result"
    }
   ],
   "source": [
    "rf = RandomForestClassifier(n_estimators=200, max_depth=7,\n",
    "                            max_features=0.25,\n",
    "                            n_jobs=-1, oob_score=True)\n",
    "rf.fit(X_trn, y_trn)\n",
    "(rf.oob_score_, rf.score(X_trn, y_trn),\n",
    "cross_validate(rf, X_trn, y_trn)[\"test_score\"].mean())"
   ]
  },
  {
   "cell_type": "code",
   "execution_count": 26,
   "metadata": {},
   "outputs": [
    {
     "data": {
      "text/plain": [
       "(0.8737864077669902, 0.09022768688626734)"
      ]
     },
     "execution_count": 26,
     "metadata": {},
     "output_type": "execute_result"
    }
   ],
   "source": [
    "rf_preds = rf.predict(eligible[X_trn.columns])\n",
    "rf_proba = rf.predict_proba(eligible[X_trn.columns])[:, 1]\n",
    "(accuracy_score(eligible.hof, rf_preds), \n",
    " brier_score_loss(eligible.hof, rf_proba))"
   ]
  },
  {
   "cell_type": "code",
   "execution_count": 27,
   "metadata": {},
   "outputs": [
    {
     "data": {
      "image/png": "[encoded data removed]",
      "text/plain": [
       "<Figure size 432x288 with 1 Axes>"
      ]
     },
     "metadata": {},
     "output_type": "display_data"
    }
   ],
   "source": [
    "index = np.argsort(rf.feature_importances_)\n",
    "features = X_trn.columns[index]\n",
    "\n",
    "plt.barh(width=rf.feature_importances_[index], y=features);"
   ]
  },
  {
   "cell_type": "code",
   "execution_count": 28,
   "metadata": {},
   "outputs": [
    {
     "data": {
      "text/plain": [
       "['All_stars',\n",
       " 'Championships',\n",
       " 'Count_mvp',\n",
       " 'Count_finals_mvp',\n",
       " 'Count_dpoy',\n",
       " 'First_Team_All_NBA',\n",
       " 'Second_Team_All_NBA']"
      ]
     },
     "execution_count": 28,
     "metadata": {},
     "output_type": "execute_result"
    }
   ],
   "source": [
    "rf_features"
   ]
  },
  {
   "cell_type": "code",
   "execution_count": 29,
   "metadata": {},
   "outputs": [],
   "source": [
    "from pdpbox import pdp, get_dataset, info_plots"
   ]
  },
  {
   "cell_type": "code",
   "execution_count": 30,
   "metadata": {},
   "outputs": [
    {
     "ename": "ValueError",
     "evalue": "feature does not exist: peak_win_shares",
     "output_type": "error",
     "traceback": [
      "\u001b[0;31m---------------------------------------------------------------------------\u001b[0m",
      "\u001b[0;31mValueError\u001b[0m                                Traceback (most recent call last)",
      "\u001b[0;32m<ipython-input-30-054413f62591>\u001b[0m in \u001b[0;36m<module>\u001b[0;34m\u001b[0m\n\u001b[1;32m      1\u001b[0m pdp_fare = pdp.pdp_isolate(\n\u001b[0;32m----> 2\u001b[0;31m     \u001b[0mmodel\u001b[0m\u001b[0;34m=\u001b[0m\u001b[0mrf\u001b[0m\u001b[0;34m,\u001b[0m \u001b[0mdataset\u001b[0m\u001b[0;34m=\u001b[0m\u001b[0mX_trn\u001b[0m\u001b[0;34m,\u001b[0m \u001b[0mmodel_features\u001b[0m\u001b[0;34m=\u001b[0m\u001b[0mrf_features\u001b[0m\u001b[0;34m,\u001b[0m \u001b[0mfeature\u001b[0m\u001b[0;34m=\u001b[0m\u001b[0;34m'peak_win_shares'\u001b[0m\u001b[0;34m\u001b[0m\u001b[0;34m\u001b[0m\u001b[0m\n\u001b[0m\u001b[1;32m      3\u001b[0m )\n",
      "\u001b[0;32m~/opt/anaconda3/lib/python3.7/site-packages/pdpbox/pdp.py\u001b[0m in \u001b[0;36mpdp_isolate\u001b[0;34m(model, dataset, model_features, feature, num_grid_points, grid_type, percentile_range, grid_range, cust_grid_points, memory_limit, n_jobs, predict_kwds, data_transformer)\u001b[0m\n\u001b[1;32m    122\u001b[0m     \u001b[0m_dataset\u001b[0m \u001b[0;34m=\u001b[0m \u001b[0mdataset\u001b[0m\u001b[0;34m.\u001b[0m\u001b[0mcopy\u001b[0m\u001b[0;34m(\u001b[0m\u001b[0;34m)\u001b[0m\u001b[0;34m\u001b[0m\u001b[0;34m\u001b[0m\u001b[0m\n\u001b[1;32m    123\u001b[0m \u001b[0;34m\u001b[0m\u001b[0m\n\u001b[0;32m--> 124\u001b[0;31m     \u001b[0mfeature_type\u001b[0m \u001b[0;34m=\u001b[0m \u001b[0m_check_feature\u001b[0m\u001b[0;34m(\u001b[0m\u001b[0mfeature\u001b[0m\u001b[0;34m=\u001b[0m\u001b[0mfeature\u001b[0m\u001b[0;34m,\u001b[0m \u001b[0mdf\u001b[0m\u001b[0;34m=\u001b[0m\u001b[0m_dataset\u001b[0m\u001b[0;34m)\u001b[0m\u001b[0;34m\u001b[0m\u001b[0;34m\u001b[0m\u001b[0m\n\u001b[0m\u001b[1;32m    125\u001b[0m     \u001b[0m_check_grid_type\u001b[0m\u001b[0;34m(\u001b[0m\u001b[0mgrid_type\u001b[0m\u001b[0;34m=\u001b[0m\u001b[0mgrid_type\u001b[0m\u001b[0;34m)\u001b[0m\u001b[0;34m\u001b[0m\u001b[0;34m\u001b[0m\u001b[0m\n\u001b[1;32m    126\u001b[0m     \u001b[0m_check_percentile_range\u001b[0m\u001b[0;34m(\u001b[0m\u001b[0mpercentile_range\u001b[0m\u001b[0;34m=\u001b[0m\u001b[0mpercentile_range\u001b[0m\u001b[0;34m)\u001b[0m\u001b[0;34m\u001b[0m\u001b[0;34m\u001b[0m\u001b[0m\n",
      "\u001b[0;32m~/opt/anaconda3/lib/python3.7/site-packages/pdpbox/utils.py\u001b[0m in \u001b[0;36m_check_feature\u001b[0;34m(feature, df)\u001b[0m\n\u001b[1;32m     23\u001b[0m     \u001b[0;32melse\u001b[0m\u001b[0;34m:\u001b[0m\u001b[0;34m\u001b[0m\u001b[0;34m\u001b[0m\u001b[0m\n\u001b[1;32m     24\u001b[0m         \u001b[0;32mif\u001b[0m \u001b[0mfeature\u001b[0m \u001b[0;32mnot\u001b[0m \u001b[0;32min\u001b[0m \u001b[0mdf\u001b[0m\u001b[0;34m.\u001b[0m\u001b[0mcolumns\u001b[0m\u001b[0;34m.\u001b[0m\u001b[0mvalues\u001b[0m\u001b[0;34m:\u001b[0m\u001b[0;34m\u001b[0m\u001b[0;34m\u001b[0m\u001b[0m\n\u001b[0;32m---> 25\u001b[0;31m             \u001b[0;32mraise\u001b[0m \u001b[0mValueError\u001b[0m\u001b[0;34m(\u001b[0m\u001b[0;34m'feature does not exist: %s'\u001b[0m \u001b[0;34m%\u001b[0m \u001b[0mfeature\u001b[0m\u001b[0;34m)\u001b[0m\u001b[0;34m\u001b[0m\u001b[0;34m\u001b[0m\u001b[0m\n\u001b[0m\u001b[1;32m     26\u001b[0m         \u001b[0;32mif\u001b[0m \u001b[0msorted\u001b[0m\u001b[0;34m(\u001b[0m\u001b[0mlist\u001b[0m\u001b[0;34m(\u001b[0m\u001b[0mnp\u001b[0m\u001b[0;34m.\u001b[0m\u001b[0munique\u001b[0m\u001b[0;34m(\u001b[0m\u001b[0mdf\u001b[0m\u001b[0;34m[\u001b[0m\u001b[0mfeature\u001b[0m\u001b[0;34m]\u001b[0m\u001b[0;34m)\u001b[0m\u001b[0;34m)\u001b[0m\u001b[0;34m)\u001b[0m \u001b[0;34m==\u001b[0m \u001b[0;34m[\u001b[0m\u001b[0;36m0\u001b[0m\u001b[0;34m,\u001b[0m \u001b[0;36m1\u001b[0m\u001b[0;34m]\u001b[0m\u001b[0;34m:\u001b[0m\u001b[0;34m\u001b[0m\u001b[0;34m\u001b[0m\u001b[0m\n\u001b[1;32m     27\u001b[0m             \u001b[0mfeature_type\u001b[0m \u001b[0;34m=\u001b[0m \u001b[0;34m'binary'\u001b[0m\u001b[0;34m\u001b[0m\u001b[0;34m\u001b[0m\u001b[0m\n",
      "\u001b[0;31mValueError\u001b[0m: feature does not exist: peak_win_shares"
     ]
    }
   ],
   "source": [
    "pdp_fare = pdp.pdp_isolate(\n",
    "    model=rf, dataset=X_trn, model_features=rf_features, feature='peak_win_shares'\n",
    ")"
   ]
  },
  {
   "cell_type": "code",
   "execution_count": 31,
   "metadata": {},
   "outputs": [
    {
     "ename": "NameError",
     "evalue": "name 'pdp_fare' is not defined",
     "output_type": "error",
     "traceback": [
      "\u001b[0;31m---------------------------------------------------------------------------\u001b[0m",
      "\u001b[0;31mNameError\u001b[0m                                 Traceback (most recent call last)",
      "\u001b[0;32m<ipython-input-31-99fb115baf12>\u001b[0m in \u001b[0;36m<module>\u001b[0;34m\u001b[0m\n\u001b[1;32m      1\u001b[0m fig, axes = pdp.pdp_plot(\n\u001b[0;32m----> 2\u001b[0;31m     \u001b[0mpdp_fare\u001b[0m\u001b[0;34m,\u001b[0m \u001b[0;34m'peak_win_shares'\u001b[0m\u001b[0;34m,\u001b[0m \u001b[0mfrac_to_plot\u001b[0m\u001b[0;34m=\u001b[0m\u001b[0;36m0.5\u001b[0m\u001b[0;34m,\u001b[0m \u001b[0mplot_lines\u001b[0m\u001b[0;34m=\u001b[0m\u001b[0;32mTrue\u001b[0m\u001b[0;34m,\u001b[0m \u001b[0mx_quantile\u001b[0m\u001b[0;34m=\u001b[0m\u001b[0;32mTrue\u001b[0m\u001b[0;34m,\u001b[0m \u001b[0mshow_percentile\u001b[0m\u001b[0;34m=\u001b[0m\u001b[0;32mTrue\u001b[0m\u001b[0;34m,\u001b[0m \u001b[0mplot_pts_dist\u001b[0m\u001b[0;34m=\u001b[0m\u001b[0;32mTrue\u001b[0m\u001b[0;34m\u001b[0m\u001b[0;34m\u001b[0m\u001b[0m\n\u001b[0m\u001b[1;32m      3\u001b[0m )\n",
      "\u001b[0;31mNameError\u001b[0m: name 'pdp_fare' is not defined"
     ]
    }
   ],
   "source": [
    "fig, axes = pdp.pdp_plot(\n",
    "    pdp_fare, 'peak_win_shares', frac_to_plot=0.5, plot_lines=True, x_quantile=True, show_percentile=True, plot_pts_dist=True\n",
    ")"
   ]
  },
  {
   "cell_type": "code",
   "execution_count": 32,
   "metadata": {},
   "outputs": [],
   "source": [
    "from scipy.cluster import hierarchy as hc\n",
    "import scipy"
   ]
  },
  {
   "cell_type": "code",
   "execution_count": 33,
   "metadata": {},
   "outputs": [
    {
     "data": {
      "image/png": "[encoded data removed]",
      "text/plain": [
       "<Figure size 1152x720 with 1 Axes>"
      ]
     },
     "metadata": {},
     "output_type": "display_data"
    }
   ],
   "source": [
    "corr = np.round(scipy.stats.spearmanr(X_trn).correlation, 4)\n",
    "corr_condensed = hc.distance.squareform(1-corr)\n",
    "z = hc.linkage(corr_condensed, method='average')\n",
    "fig = plt.figure(figsize=(16, 10))\n",
    "dendrogram = hc.dendrogram(z, labels=X_trn.columns,\n",
    "                        orientation='left', leaf_font_size=16)\n",
    "plt.show()"
   ]
  },
  {
   "cell_type": "code",
   "execution_count": 34,
   "metadata": {},
   "outputs": [
    {
     "ename": "NameError",
     "evalue": "name 'x' is not defined",
     "output_type": "error",
     "traceback": [
      "\u001b[0;31m---------------------------------------------------------------------------\u001b[0m",
      "\u001b[0;31mNameError\u001b[0m                                 Traceback (most recent call last)",
      "\u001b[0;32m<ipython-input-34-2b2e4e8707f2>\u001b[0m in \u001b[0;36m<module>\u001b[0;34m\u001b[0m\n\u001b[0;32m----> 1\u001b[0;31m pd.DataFrame({\"LastYear\":x, \"Diff\":y}, index=eligible.index).sort_values(\"Diff\", \n\u001b[0m\u001b[1;32m      2\u001b[0m                                                                          ascending=False)\n",
      "\u001b[0;31mNameError\u001b[0m: name 'x' is not defined"
     ]
    }
   ],
   "source": [
    "pd.DataFrame({\"LastYear\":x, \"Diff\":y}, index=eligible.index).sort_values(\"Diff\", \n",
    "                                                                         ascending=False)"
   ]
  },
  {
   "cell_type": "code",
   "execution_count": 35,
   "metadata": {},
   "outputs": [],
   "source": [
    "eligible_train = eligible[X_trn.columns]"
   ]
  },
  {
   "cell_type": "code",
   "execution_count": 36,
   "metadata": {},
   "outputs": [
    {
     "data": {
      "text/plain": [
       "Index(['Count_dpoy', 'Count_finals_mvp', 'Count_mvp', 'Second_Team_All_NBA',\n",
       "       'Championships', 'First_Team_All_NBA', 'All_stars'],\n",
       "      dtype='object')"
      ]
     },
     "execution_count": 36,
     "metadata": {},
     "output_type": "execute_result"
    }
   ],
   "source": [
    "features"
   ]
  },
  {
   "cell_type": "code",
   "execution_count": 37,
   "metadata": {},
   "outputs": [
    {
     "data": {
      "text/plain": [
       "(0.8918918918918919, 0.09664495054054056, 0.36101548575372866)"
      ]
     },
     "execution_count": 37,
     "metadata": {},
     "output_type": "execute_result"
    }
   ],
   "source": [
    "bball_ref_preds = test.Probability > 0.5\n",
    "(accuracy_score(test.hof, bball_ref_preds), brier_score_loss(test.hof, test.Probability),\n",
    " log_loss(test.hof, test.Probability))"
   ]
  },
  {
   "cell_type": "code",
   "execution_count": 38,
   "metadata": {},
   "outputs": [
    {
     "data": {
      "text/plain": [
       "(0.8108108108108109, 0.11064861412225149, 0.3745441209693216)"
      ]
     },
     "execution_count": 38,
     "metadata": {},
     "output_type": "execute_result"
    }
   ],
   "source": [
    "logit = LogisticRegression()\n",
    "logit.fit(train[logit_features], y_trn)\n",
    "logit_preds = logit.predict(test[logit_features])\n",
    "logit_proba = logit.predict_proba(test[logit_features])\n",
    "accuracy_score(test.hof, logit_preds), brier_score_loss(test.hof, logit_proba[:, 1]), log_loss(test.hof, logit_proba[:, 1])"
   ]
  },
  {
   "cell_type": "code",
   "execution_count": 39,
   "metadata": {},
   "outputs": [
    {
     "data": {
      "text/plain": [
       "(0.8108108108108109, 0.13269060059081775, 0.3970957606592)"
      ]
     },
     "execution_count": 39,
     "metadata": {},
     "output_type": "execute_result"
    }
   ],
   "source": [
    "rf_preds = rf.predict(test[rf_features])\n",
    "rf_proba = rf.predict_proba(test[rf_features])\n",
    "(accuracy_score(test.hof, rf_preds), brier_score_loss(test.hof, rf_proba[:, 1]), \n",
    "log_loss(test.hof, rf_proba[:, 1]))"
   ]
  },
  {
   "cell_type": "code",
   "execution_count": 40,
   "metadata": {},
   "outputs": [
    {
     "data": {
      "text/plain": [
       "LogisticRegression(C=1.0, class_weight=None, dual=False, fit_intercept=True,\n",
       "                   intercept_scaling=1, l1_ratio=None, max_iter=100,\n",
       "                   multi_class='auto', n_jobs=None, penalty='l2',\n",
       "                   random_state=None, solver='lbfgs', tol=0.0001, verbose=0,\n",
       "                   warm_start=False)"
      ]
     },
     "execution_count": 40,
     "metadata": {},
     "output_type": "execute_result"
    }
   ],
   "source": [
    "logit = LogisticRegression()\n",
    "\n",
    "X_trn = eligible[logit_features]\n",
    "y_trn = eligible.hof\n",
    "\n",
    "logit.fit(X_trn, y_trn)"
   ]
  },
  {
   "cell_type": "code",
   "execution_count": 41,
   "metadata": {},
   "outputs": [
    {
     "data": {
      "text/html": [
       "<div>\n",
       "<style scoped>\n",
       "    .dataframe tbody tr th:only-of-type {\n",
       "        vertical-align: middle;\n",
       "    }\n",
       "\n",
       "    .dataframe tbody tr th {\n",
       "        vertical-align: top;\n",
       "    }\n",
       "\n",
       "    .dataframe thead th {\n",
       "        text-align: right;\n",
       "    }\n",
       "</style>\n",
       "<table border=\"1\" class=\"dataframe\">\n",
       "  <thead>\n",
       "    <tr style=\"text-align: right;\">\n",
       "      <th></th>\n",
       "      <th>0</th>\n",
       "    </tr>\n",
       "  </thead>\n",
       "  <tbody>\n",
       "    <tr>\n",
       "      <th>All_stars</th>\n",
       "      <td>0.830966</td>\n",
       "    </tr>\n",
       "    <tr>\n",
       "      <th>Championships</th>\n",
       "      <td>0.801691</td>\n",
       "    </tr>\n",
       "    <tr>\n",
       "      <th>Count_mvp</th>\n",
       "      <td>1.260130</td>\n",
       "    </tr>\n",
       "    <tr>\n",
       "      <th>Count_finals_mvp</th>\n",
       "      <td>0.227086</td>\n",
       "    </tr>\n",
       "    <tr>\n",
       "      <th>Count_dpoy</th>\n",
       "      <td>0.100295</td>\n",
       "    </tr>\n",
       "    <tr>\n",
       "      <th>First_Team_All_NBA</th>\n",
       "      <td>1.133132</td>\n",
       "    </tr>\n",
       "    <tr>\n",
       "      <th>Second_Team_All_NBA</th>\n",
       "      <td>0.168790</td>\n",
       "    </tr>\n",
       "  </tbody>\n",
       "</table>\n",
       "</div>"
      ],
      "text/plain": [
       "                            0\n",
       "All_stars            0.830966\n",
       "Championships        0.801691\n",
       "Count_mvp            1.260130\n",
       "Count_finals_mvp     0.227086\n",
       "Count_dpoy           0.100295\n",
       "First_Team_All_NBA   1.133132\n",
       "Second_Team_All_NBA  0.168790"
      ]
     },
     "execution_count": 41,
     "metadata": {},
     "output_type": "execute_result"
    }
   ],
   "source": [
    "pd.DataFrame(logit.coef_.reshape(-1,1), index=X_trn.columns)"
   ]
  },
  {
   "cell_type": "code",
   "execution_count": 42,
   "metadata": {},
   "outputs": [],
   "source": [
    "data = data[[\"Name\", \"hof\", \"Probability\", \"All_stars\",\n",
    "             \"Championships\", \"Count_mvp\", \"Count_finals_mvp\",\n",
    "             \"Count_dpoy\", 'First_Team_All_NBA', \n",
    "             \"Second_Team_All_NBA\", \"value_over_replacement_player\", \"LastYear\"]]\n",
    "data[\"logit_prediction\"] = logit.predict_proba(data[rf_features])[:,1]\n",
    "data[\"rf_prediction\"] = rf.predict_proba(data[logit_features])[:,1]"
   ]
  },
  {
   "cell_type": "code",
   "execution_count": 43,
   "metadata": {},
   "outputs": [
    {
     "data": {
      "text/html": [
       "<div>\n",
       "<style scoped>\n",
       "    .dataframe tbody tr th:only-of-type {\n",
       "        vertical-align: middle;\n",
       "    }\n",
       "\n",
       "    .dataframe tbody tr th {\n",
       "        vertical-align: top;\n",
       "    }\n",
       "\n",
       "    .dataframe thead th {\n",
       "        text-align: right;\n",
       "    }\n",
       "</style>\n",
       "<table border=\"1\" class=\"dataframe\">\n",
       "  <thead>\n",
       "    <tr style=\"text-align: right;\">\n",
       "      <th></th>\n",
       "      <th>Name</th>\n",
       "      <th>hof</th>\n",
       "      <th>Probability</th>\n",
       "      <th>All_stars</th>\n",
       "      <th>Championships</th>\n",
       "      <th>Count_mvp</th>\n",
       "      <th>Count_finals_mvp</th>\n",
       "      <th>Count_dpoy</th>\n",
       "      <th>First_Team_All_NBA</th>\n",
       "      <th>Second_Team_All_NBA</th>\n",
       "      <th>value_over_replacement_player</th>\n",
       "      <th>LastYear</th>\n",
       "      <th>logit_prediction</th>\n",
       "      <th>rf_prediction</th>\n",
       "    </tr>\n",
       "    <tr>\n",
       "      <th>id</th>\n",
       "      <th></th>\n",
       "      <th></th>\n",
       "      <th></th>\n",
       "      <th></th>\n",
       "      <th></th>\n",
       "      <th></th>\n",
       "      <th></th>\n",
       "      <th></th>\n",
       "      <th></th>\n",
       "      <th></th>\n",
       "      <th></th>\n",
       "      <th></th>\n",
       "      <th></th>\n",
       "      <th></th>\n",
       "    </tr>\n",
       "  </thead>\n",
       "  <tbody>\n",
       "    <tr>\n",
       "      <th>abdulka01</th>\n",
       "      <td>Kareem Abdul-Jabbar</td>\n",
       "      <td>1</td>\n",
       "      <td>1.0000</td>\n",
       "      <td>18.0</td>\n",
       "      <td>6.0</td>\n",
       "      <td>6.0</td>\n",
       "      <td>2.0</td>\n",
       "      <td>0.0</td>\n",
       "      <td>10.0</td>\n",
       "      <td>5.0</td>\n",
       "      <td>4.361168</td>\n",
       "      <td>1989</td>\n",
       "      <td>1.000000</td>\n",
       "      <td>1.000000</td>\n",
       "    </tr>\n",
       "    <tr>\n",
       "      <th>jordami01</th>\n",
       "      <td>Michael Jordan</td>\n",
       "      <td>1</td>\n",
       "      <td>1.0000</td>\n",
       "      <td>13.0</td>\n",
       "      <td>6.0</td>\n",
       "      <td>5.0</td>\n",
       "      <td>6.0</td>\n",
       "      <td>1.0</td>\n",
       "      <td>10.0</td>\n",
       "      <td>1.0</td>\n",
       "      <td>8.976997</td>\n",
       "      <td>2003</td>\n",
       "      <td>1.000000</td>\n",
       "      <td>1.000000</td>\n",
       "    </tr>\n",
       "    <tr>\n",
       "      <th>russebi01</th>\n",
       "      <td>Bill Russell</td>\n",
       "      <td>1</td>\n",
       "      <td>1.0000</td>\n",
       "      <td>12.0</td>\n",
       "      <td>11.0</td>\n",
       "      <td>5.0</td>\n",
       "      <td>0.0</td>\n",
       "      <td>0.0</td>\n",
       "      <td>3.0</td>\n",
       "      <td>8.0</td>\n",
       "      <td>0.000000</td>\n",
       "      <td>1969</td>\n",
       "      <td>1.000000</td>\n",
       "      <td>1.000000</td>\n",
       "    </tr>\n",
       "    <tr>\n",
       "      <th>bryanko01</th>\n",
       "      <td>Kobe Bryant</td>\n",
       "      <td>1</td>\n",
       "      <td>1.0000</td>\n",
       "      <td>15.0</td>\n",
       "      <td>5.0</td>\n",
       "      <td>1.0</td>\n",
       "      <td>2.0</td>\n",
       "      <td>0.0</td>\n",
       "      <td>11.0</td>\n",
       "      <td>2.0</td>\n",
       "      <td>4.952571</td>\n",
       "      <td>2016</td>\n",
       "      <td>1.000000</td>\n",
       "      <td>0.995000</td>\n",
       "    </tr>\n",
       "    <tr>\n",
       "      <th>jamesle01</th>\n",
       "      <td>LeBron James</td>\n",
       "      <td>0</td>\n",
       "      <td>1.0000</td>\n",
       "      <td>16.0</td>\n",
       "      <td>3.0</td>\n",
       "      <td>4.0</td>\n",
       "      <td>3.0</td>\n",
       "      <td>0.0</td>\n",
       "      <td>12.0</td>\n",
       "      <td>2.0</td>\n",
       "      <td>8.155178</td>\n",
       "      <td>2020</td>\n",
       "      <td>1.000000</td>\n",
       "      <td>1.000000</td>\n",
       "    </tr>\n",
       "    <tr>\n",
       "      <th>...</th>\n",
       "      <td>...</td>\n",
       "      <td>...</td>\n",
       "      <td>...</td>\n",
       "      <td>...</td>\n",
       "      <td>...</td>\n",
       "      <td>...</td>\n",
       "      <td>...</td>\n",
       "      <td>...</td>\n",
       "      <td>...</td>\n",
       "      <td>...</td>\n",
       "      <td>...</td>\n",
       "      <td>...</td>\n",
       "      <td>...</td>\n",
       "      <td>...</td>\n",
       "    </tr>\n",
       "    <tr>\n",
       "      <th>wedmasc01</th>\n",
       "      <td>Scott Wedman</td>\n",
       "      <td>0</td>\n",
       "      <td>0.0150</td>\n",
       "      <td>1.0</td>\n",
       "      <td>2.0</td>\n",
       "      <td>0.0</td>\n",
       "      <td>0.0</td>\n",
       "      <td>0.0</td>\n",
       "      <td>0.0</td>\n",
       "      <td>0.0</td>\n",
       "      <td>1.102035</td>\n",
       "      <td>1987</td>\n",
       "      <td>0.067318</td>\n",
       "      <td>0.106870</td>\n",
       "    </tr>\n",
       "    <tr>\n",
       "      <th>leeda02</th>\n",
       "      <td>David Lee</td>\n",
       "      <td>0</td>\n",
       "      <td>0.0147</td>\n",
       "      <td>2.0</td>\n",
       "      <td>1.0</td>\n",
       "      <td>0.0</td>\n",
       "      <td>0.0</td>\n",
       "      <td>0.0</td>\n",
       "      <td>0.0</td>\n",
       "      <td>0.0</td>\n",
       "      <td>1.918442</td>\n",
       "      <td>2017</td>\n",
       "      <td>0.069180</td>\n",
       "      <td>0.120123</td>\n",
       "    </tr>\n",
       "    <tr>\n",
       "      <th>finlemi01</th>\n",
       "      <td>Michael Finley</td>\n",
       "      <td>0</td>\n",
       "      <td>0.0145</td>\n",
       "      <td>2.0</td>\n",
       "      <td>1.0</td>\n",
       "      <td>0.0</td>\n",
       "      <td>0.0</td>\n",
       "      <td>0.0</td>\n",
       "      <td>0.0</td>\n",
       "      <td>0.0</td>\n",
       "      <td>2.192876</td>\n",
       "      <td>2010</td>\n",
       "      <td>0.069180</td>\n",
       "      <td>0.120123</td>\n",
       "    </tr>\n",
       "    <tr>\n",
       "      <th>brianfr01</th>\n",
       "      <td>Frankie Brian</td>\n",
       "      <td>0</td>\n",
       "      <td>0.0142</td>\n",
       "      <td>2.0</td>\n",
       "      <td>0.0</td>\n",
       "      <td>0.0</td>\n",
       "      <td>0.0</td>\n",
       "      <td>0.0</td>\n",
       "      <td>0.0</td>\n",
       "      <td>2.0</td>\n",
       "      <td>0.000000</td>\n",
       "      <td>1956</td>\n",
       "      <td>0.044640</td>\n",
       "      <td>0.092187</td>\n",
       "    </tr>\n",
       "    <tr>\n",
       "      <th>smithph01</th>\n",
       "      <td>Phil Smith</td>\n",
       "      <td>0</td>\n",
       "      <td>0.0140</td>\n",
       "      <td>2.0</td>\n",
       "      <td>1.0</td>\n",
       "      <td>0.0</td>\n",
       "      <td>0.0</td>\n",
       "      <td>0.0</td>\n",
       "      <td>0.0</td>\n",
       "      <td>1.0</td>\n",
       "      <td>1.419475</td>\n",
       "      <td>1983</td>\n",
       "      <td>0.080871</td>\n",
       "      <td>0.135852</td>\n",
       "    </tr>\n",
       "  </tbody>\n",
       "</table>\n",
       "<p>251 rows × 14 columns</p>\n",
       "</div>"
      ],
      "text/plain": [
       "                          Name  hof  Probability  All_stars  Championships  \\\n",
       "id                                                                           \n",
       "abdulka01  Kareem Abdul-Jabbar    1       1.0000       18.0            6.0   \n",
       "jordami01       Michael Jordan    1       1.0000       13.0            6.0   \n",
       "russebi01         Bill Russell    1       1.0000       12.0           11.0   \n",
       "bryanko01          Kobe Bryant    1       1.0000       15.0            5.0   \n",
       "jamesle01         LeBron James    0       1.0000       16.0            3.0   \n",
       "...                        ...  ...          ...        ...            ...   \n",
       "wedmasc01         Scott Wedman    0       0.0150        1.0            2.0   \n",
       "leeda02              David Lee    0       0.0147        2.0            1.0   \n",
       "finlemi01       Michael Finley    0       0.0145        2.0            1.0   \n",
       "brianfr01        Frankie Brian    0       0.0142        2.0            0.0   \n",
       "smithph01           Phil Smith    0       0.0140        2.0            1.0   \n",
       "\n",
       "           Count_mvp  Count_finals_mvp  Count_dpoy  First_Team_All_NBA  \\\n",
       "id                                                                       \n",
       "abdulka01        6.0               2.0         0.0                10.0   \n",
       "jordami01        5.0               6.0         1.0                10.0   \n",
       "russebi01        5.0               0.0         0.0                 3.0   \n",
       "bryanko01        1.0               2.0         0.0                11.0   \n",
       "jamesle01        4.0               3.0         0.0                12.0   \n",
       "...              ...               ...         ...                 ...   \n",
       "wedmasc01        0.0               0.0         0.0                 0.0   \n",
       "leeda02          0.0               0.0         0.0                 0.0   \n",
       "finlemi01        0.0               0.0         0.0                 0.0   \n",
       "brianfr01        0.0               0.0         0.0                 0.0   \n",
       "smithph01        0.0               0.0         0.0                 0.0   \n",
       "\n",
       "           Second_Team_All_NBA  value_over_replacement_player  LastYear  \\\n",
       "id                                                                        \n",
       "abdulka01                  5.0                       4.361168      1989   \n",
       "jordami01                  1.0                       8.976997      2003   \n",
       "russebi01                  8.0                       0.000000      1969   \n",
       "bryanko01                  2.0                       4.952571      2016   \n",
       "jamesle01                  2.0                       8.155178      2020   \n",
       "...                        ...                            ...       ...   \n",
       "wedmasc01                  0.0                       1.102035      1987   \n",
       "leeda02                    0.0                       1.918442      2017   \n",
       "finlemi01                  0.0                       2.192876      2010   \n",
       "brianfr01                  2.0                       0.000000      1956   \n",
       "smithph01                  1.0                       1.419475      1983   \n",
       "\n",
       "           logit_prediction  rf_prediction  \n",
       "id                                          \n",
       "abdulka01          1.000000       1.000000  \n",
       "jordami01          1.000000       1.000000  \n",
       "russebi01          1.000000       1.000000  \n",
       "bryanko01          1.000000       0.995000  \n",
       "jamesle01          1.000000       1.000000  \n",
       "...                     ...            ...  \n",
       "wedmasc01          0.067318       0.106870  \n",
       "leeda02            0.069180       0.120123  \n",
       "finlemi01          0.069180       0.120123  \n",
       "brianfr01          0.044640       0.092187  \n",
       "smithph01          0.080871       0.135852  \n",
       "\n",
       "[251 rows x 14 columns]"
      ]
     },
     "execution_count": 43,
     "metadata": {},
     "output_type": "execute_result"
    }
   ],
   "source": [
    "data"
   ]
  },
  {
   "cell_type": "code",
   "execution_count": 44,
   "metadata": {},
   "outputs": [],
   "source": [
    "data.to_csv(\"nba_data/Predictions.csv\")"
   ]
  },
  {
   "cell_type": "markdown",
   "metadata": {},
   "source": [
    "### By Year"
   ]
  },
  {
   "cell_type": "code",
   "execution_count": 45,
   "metadata": {},
   "outputs": [
    {
     "data": {
      "text/plain": [
       "['All_stars',\n",
       " 'Championships',\n",
       " 'Count_mvp',\n",
       " 'Count_finals_mvp',\n",
       " 'Count_dpoy',\n",
       " 'First_Team_All_NBA',\n",
       " 'Second_Team_All_NBA']"
      ]
     },
     "execution_count": 45,
     "metadata": {},
     "output_type": "execute_result"
    }
   ],
   "source": [
    "logit_features"
   ]
  },
  {
   "cell_type": "code",
   "execution_count": 46,
   "metadata": {
    "scrolled": true
   },
   "outputs": [
    {
     "data": {
      "text/html": [
       "<div>\n",
       "<style scoped>\n",
       "    .dataframe tbody tr th:only-of-type {\n",
       "        vertical-align: middle;\n",
       "    }\n",
       "\n",
       "    .dataframe tbody tr th {\n",
       "        vertical-align: top;\n",
       "    }\n",
       "\n",
       "    .dataframe thead th {\n",
       "        text-align: right;\n",
       "    }\n",
       "</style>\n",
       "<table border=\"1\" class=\"dataframe\">\n",
       "  <thead>\n",
       "    <tr style=\"text-align: right;\">\n",
       "      <th></th>\n",
       "      <th>Unnamed: 0</th>\n",
       "      <th>All_stars</th>\n",
       "      <th>Championships</th>\n",
       "      <th>Count_dpoy</th>\n",
       "      <th>Count_finals_mvp</th>\n",
       "      <th>Count_mvp</th>\n",
       "      <th>First_Team_All_NBA</th>\n",
       "      <th>Second_Team_All_NBA</th>\n",
       "      <th>name</th>\n",
       "      <th>slug</th>\n",
       "      <th>value_over_replacement_player</th>\n",
       "      <th>year</th>\n",
       "    </tr>\n",
       "  </thead>\n",
       "  <tbody>\n",
       "    <tr>\n",
       "      <th>0</th>\n",
       "      <td>0</td>\n",
       "      <td>1.0</td>\n",
       "      <td>0.0</td>\n",
       "      <td>0.0</td>\n",
       "      <td>0.0</td>\n",
       "      <td>0.0</td>\n",
       "      <td>0.0</td>\n",
       "      <td>1.0</td>\n",
       "      <td>Kareem Abdul-Jabbar</td>\n",
       "      <td>abdulka01</td>\n",
       "      <td>0.0</td>\n",
       "      <td>1970</td>\n",
       "    </tr>\n",
       "    <tr>\n",
       "      <th>1</th>\n",
       "      <td>1</td>\n",
       "      <td>2.0</td>\n",
       "      <td>1.0</td>\n",
       "      <td>0.0</td>\n",
       "      <td>1.0</td>\n",
       "      <td>1.0</td>\n",
       "      <td>1.0</td>\n",
       "      <td>1.0</td>\n",
       "      <td>Kareem Abdul-Jabbar</td>\n",
       "      <td>abdulka01</td>\n",
       "      <td>0.0</td>\n",
       "      <td>1971</td>\n",
       "    </tr>\n",
       "    <tr>\n",
       "      <th>2</th>\n",
       "      <td>2</td>\n",
       "      <td>3.0</td>\n",
       "      <td>1.0</td>\n",
       "      <td>0.0</td>\n",
       "      <td>1.0</td>\n",
       "      <td>2.0</td>\n",
       "      <td>2.0</td>\n",
       "      <td>1.0</td>\n",
       "      <td>Kareem Abdul-Jabbar</td>\n",
       "      <td>abdulka01</td>\n",
       "      <td>0.0</td>\n",
       "      <td>1972</td>\n",
       "    </tr>\n",
       "    <tr>\n",
       "      <th>3</th>\n",
       "      <td>3</td>\n",
       "      <td>4.0</td>\n",
       "      <td>1.0</td>\n",
       "      <td>0.0</td>\n",
       "      <td>1.0</td>\n",
       "      <td>2.0</td>\n",
       "      <td>3.0</td>\n",
       "      <td>1.0</td>\n",
       "      <td>Kareem Abdul-Jabbar</td>\n",
       "      <td>abdulka01</td>\n",
       "      <td>0.0</td>\n",
       "      <td>1973</td>\n",
       "    </tr>\n",
       "    <tr>\n",
       "      <th>4</th>\n",
       "      <td>4</td>\n",
       "      <td>5.0</td>\n",
       "      <td>1.0</td>\n",
       "      <td>0.0</td>\n",
       "      <td>1.0</td>\n",
       "      <td>3.0</td>\n",
       "      <td>4.0</td>\n",
       "      <td>1.0</td>\n",
       "      <td>Kareem Abdul-Jabbar</td>\n",
       "      <td>abdulka01</td>\n",
       "      <td>8.6</td>\n",
       "      <td>1974</td>\n",
       "    </tr>\n",
       "    <tr>\n",
       "      <th>...</th>\n",
       "      <td>...</td>\n",
       "      <td>...</td>\n",
       "      <td>...</td>\n",
       "      <td>...</td>\n",
       "      <td>...</td>\n",
       "      <td>...</td>\n",
       "      <td>...</td>\n",
       "      <td>...</td>\n",
       "      <td>...</td>\n",
       "      <td>...</td>\n",
       "      <td>...</td>\n",
       "      <td>...</td>\n",
       "    </tr>\n",
       "    <tr>\n",
       "      <th>3159</th>\n",
       "      <td>3159</td>\n",
       "      <td>3.0</td>\n",
       "      <td>0.0</td>\n",
       "      <td>0.0</td>\n",
       "      <td>0.0</td>\n",
       "      <td>0.0</td>\n",
       "      <td>0.0</td>\n",
       "      <td>0.0</td>\n",
       "      <td>George Yardley</td>\n",
       "      <td>yardlge01</td>\n",
       "      <td>0.0</td>\n",
       "      <td>1956</td>\n",
       "    </tr>\n",
       "    <tr>\n",
       "      <th>3160</th>\n",
       "      <td>3160</td>\n",
       "      <td>4.0</td>\n",
       "      <td>0.0</td>\n",
       "      <td>0.0</td>\n",
       "      <td>0.0</td>\n",
       "      <td>0.0</td>\n",
       "      <td>0.0</td>\n",
       "      <td>1.0</td>\n",
       "      <td>George Yardley</td>\n",
       "      <td>yardlge01</td>\n",
       "      <td>0.0</td>\n",
       "      <td>1957</td>\n",
       "    </tr>\n",
       "    <tr>\n",
       "      <th>3161</th>\n",
       "      <td>3161</td>\n",
       "      <td>5.0</td>\n",
       "      <td>0.0</td>\n",
       "      <td>0.0</td>\n",
       "      <td>0.0</td>\n",
       "      <td>0.0</td>\n",
       "      <td>1.0</td>\n",
       "      <td>1.0</td>\n",
       "      <td>George Yardley</td>\n",
       "      <td>yardlge01</td>\n",
       "      <td>0.0</td>\n",
       "      <td>1958</td>\n",
       "    </tr>\n",
       "    <tr>\n",
       "      <th>3162</th>\n",
       "      <td>3162</td>\n",
       "      <td>6.0</td>\n",
       "      <td>0.0</td>\n",
       "      <td>0.0</td>\n",
       "      <td>0.0</td>\n",
       "      <td>0.0</td>\n",
       "      <td>1.0</td>\n",
       "      <td>1.0</td>\n",
       "      <td>George Yardley</td>\n",
       "      <td>yardlge01</td>\n",
       "      <td>0.0</td>\n",
       "      <td>1959</td>\n",
       "    </tr>\n",
       "    <tr>\n",
       "      <th>3163</th>\n",
       "      <td>3163</td>\n",
       "      <td>6.0</td>\n",
       "      <td>0.0</td>\n",
       "      <td>0.0</td>\n",
       "      <td>0.0</td>\n",
       "      <td>0.0</td>\n",
       "      <td>1.0</td>\n",
       "      <td>1.0</td>\n",
       "      <td>George Yardley</td>\n",
       "      <td>yardlge01</td>\n",
       "      <td>0.0</td>\n",
       "      <td>1960</td>\n",
       "    </tr>\n",
       "  </tbody>\n",
       "</table>\n",
       "<p>3164 rows × 12 columns</p>\n",
       "</div>"
      ],
      "text/plain": [
       "      Unnamed: 0  All_stars  Championships  Count_dpoy  Count_finals_mvp  \\\n",
       "0              0        1.0            0.0         0.0               0.0   \n",
       "1              1        2.0            1.0         0.0               1.0   \n",
       "2              2        3.0            1.0         0.0               1.0   \n",
       "3              3        4.0            1.0         0.0               1.0   \n",
       "4              4        5.0            1.0         0.0               1.0   \n",
       "...          ...        ...            ...         ...               ...   \n",
       "3159        3159        3.0            0.0         0.0               0.0   \n",
       "3160        3160        4.0            0.0         0.0               0.0   \n",
       "3161        3161        5.0            0.0         0.0               0.0   \n",
       "3162        3162        6.0            0.0         0.0               0.0   \n",
       "3163        3163        6.0            0.0         0.0               0.0   \n",
       "\n",
       "      Count_mvp  First_Team_All_NBA  Second_Team_All_NBA                 name  \\\n",
       "0           0.0                 0.0                  1.0  Kareem Abdul-Jabbar   \n",
       "1           1.0                 1.0                  1.0  Kareem Abdul-Jabbar   \n",
       "2           2.0                 2.0                  1.0  Kareem Abdul-Jabbar   \n",
       "3           2.0                 3.0                  1.0  Kareem Abdul-Jabbar   \n",
       "4           3.0                 4.0                  1.0  Kareem Abdul-Jabbar   \n",
       "...         ...                 ...                  ...                  ...   \n",
       "3159        0.0                 0.0                  0.0       George Yardley   \n",
       "3160        0.0                 0.0                  1.0       George Yardley   \n",
       "3161        0.0                 1.0                  1.0       George Yardley   \n",
       "3162        0.0                 1.0                  1.0       George Yardley   \n",
       "3163        0.0                 1.0                  1.0       George Yardley   \n",
       "\n",
       "           slug  value_over_replacement_player  year  \n",
       "0     abdulka01                            0.0  1970  \n",
       "1     abdulka01                            0.0  1971  \n",
       "2     abdulka01                            0.0  1972  \n",
       "3     abdulka01                            0.0  1973  \n",
       "4     abdulka01                            8.6  1974  \n",
       "...         ...                            ...   ...  \n",
       "3159  yardlge01                            0.0  1956  \n",
       "3160  yardlge01                            0.0  1957  \n",
       "3161  yardlge01                            0.0  1958  \n",
       "3162  yardlge01                            0.0  1959  \n",
       "3163  yardlge01                            0.0  1960  \n",
       "\n",
       "[3164 rows x 12 columns]"
      ]
     },
     "execution_count": 46,
     "metadata": {},
     "output_type": "execute_result"
    }
   ],
   "source": [
    "players_by_year = pd.read_csv(\"nba_data/players_by_year.csv\")\n",
    "players_by_year"
   ]
  },
  {
   "cell_type": "code",
   "execution_count": 47,
   "metadata": {},
   "outputs": [],
   "source": [
    "pby_train = players_by_year[logit_features]"
   ]
  },
  {
   "cell_type": "code",
   "execution_count": 48,
   "metadata": {
    "scrolled": true
   },
   "outputs": [],
   "source": [
    "proba = logit.predict_proba(pby_train)[:, 1]"
   ]
  },
  {
   "cell_type": "code",
   "execution_count": 49,
   "metadata": {},
   "outputs": [],
   "source": [
    "players_by_year[\"logit_probabilities\"] = logit.predict_proba(pby_train)[:, 1]\n",
    "players_by_year[\"rf_probabilities\"] = rf.predict_proba(pby_train)[:, 1]"
   ]
  },
  {
   "cell_type": "code",
   "execution_count": 50,
   "metadata": {},
   "outputs": [],
   "source": [
    "players_by_year.to_csv(\"nba_data/pby_predictions.csv\", index=False)"
   ]
  },
  {
   "cell_type": "code",
   "execution_count": null,
   "metadata": {},
   "outputs": [],
   "source": []
  }
 ],
 "metadata": {
  "kernelspec": {
   "display_name": "Python 3",
   "language": "python",
   "name": "python3"
  },
  "language_info": {
   "codemirror_mode": {
    "name": "ipython",
    "version": 3
   },
   "file_extension": ".py",
   "mimetype": "text/x-python",
   "name": "python",
   "nbconvert_exporter": "python",
   "pygments_lexer": "ipython3",
   "version": "3.7.6"
  }
 },
 "nbformat": 4,
 "nbformat_minor": 2
}
